{
 "cells": [
  {
   "cell_type": "markdown",
   "metadata": {},
   "source": [
    "# Tutorial"
   ]
  },
  {
   "cell_type": "markdown",
   "metadata": {},
   "source": [
    "## Build a Si diamond crystal"
   ]
  },
  {
   "cell_type": "markdown",
   "metadata": {},
   "source": [
    "Here we build a Si diamond crystal containing 64 atoms with the ASE build function."
   ]
  },
  {
   "cell_type": "code",
   "execution_count": 1,
   "metadata": {},
   "outputs": [],
   "source": [
    "from ase.build import bulk\n",
    "\n",
    "\n",
    "si_dc = bulk(\"Si\", \"diamond\", a=5.43, cubic=True).repeat((2, 2, 2))"
   ]
  },
  {
   "cell_type": "markdown",
   "metadata": {},
   "source": [
    "Since we need to that all arrays to be torch tensors, we use the inbuilt `atoms_to_state` function in `torch-sim`. This function converts the ASE atoms object to a `SimState` object, which is a custom object that contains all the information about the system used by `torch-sim` for simulations. `torch-sim.io` module also supports back and forth conversion between Pymatgen `Structure` objects and Phonopy `PhonopyAtoms` objects.\n",
    "\n",
    "The `atoms_to_state` function also needs the dtype and the device as arguments. This ensures that the state object is on the correct device and has the correct data type.\n",
    "\n",
    "`SimState` is a dataclass that contains the positions, cell, atomic numbers, periodic boundary conditions, masses and the batch index of the atoms."
   ]
  },
  {
   "cell_type": "code",
   "execution_count": 6,
   "metadata": {},
   "outputs": [
    {
     "name": "stdout",
     "output_type": "stream",
     "text": [
      "SimState(positions=tensor([[0.0000, 0.0000, 0.0000],\n",
      "        [1.3575, 1.3575, 1.3575],\n",
      "        [0.0000, 2.7150, 2.7150],\n",
      "        [1.3575, 4.0725, 4.0725],\n",
      "        [2.7150, 0.0000, 2.7150],\n",
      "        [4.0725, 1.3575, 4.0725],\n",
      "        [2.7150, 2.7150, 0.0000],\n",
      "        [4.0725, 4.0725, 1.3575],\n",
      "        [0.0000, 0.0000, 5.4300],\n",
      "        [1.3575, 1.3575, 6.7875],\n",
      "        [0.0000, 2.7150, 8.1450],\n",
      "        [1.3575, 4.0725, 9.5025],\n",
      "        [2.7150, 0.0000, 8.1450],\n",
      "        [4.0725, 1.3575, 9.5025],\n",
      "        [2.7150, 2.7150, 5.4300],\n",
      "        [4.0725, 4.0725, 6.7875],\n",
      "        [0.0000, 5.4300, 0.0000],\n",
      "        [1.3575, 6.7875, 1.3575],\n",
      "        [0.0000, 8.1450, 2.7150],\n",
      "        [1.3575, 9.5025, 4.0725],\n",
      "        [2.7150, 5.4300, 2.7150],\n",
      "        [4.0725, 6.7875, 4.0725],\n",
      "        [2.7150, 8.1450, 0.0000],\n",
      "        [4.0725, 9.5025, 1.3575],\n",
      "        [0.0000, 5.4300, 5.4300],\n",
      "        [1.3575, 6.7875, 6.7875],\n",
      "        [0.0000, 8.1450, 8.1450],\n",
      "        [1.3575, 9.5025, 9.5025],\n",
      "        [2.7150, 5.4300, 8.1450],\n",
      "        [4.0725, 6.7875, 9.5025],\n",
      "        [2.7150, 8.1450, 5.4300],\n",
      "        [4.0725, 9.5025, 6.7875],\n",
      "        [5.4300, 0.0000, 0.0000],\n",
      "        [6.7875, 1.3575, 1.3575],\n",
      "        [5.4300, 2.7150, 2.7150],\n",
      "        [6.7875, 4.0725, 4.0725],\n",
      "        [8.1450, 0.0000, 2.7150],\n",
      "        [9.5025, 1.3575, 4.0725],\n",
      "        [8.1450, 2.7150, 0.0000],\n",
      "        [9.5025, 4.0725, 1.3575],\n",
      "        [5.4300, 0.0000, 5.4300],\n",
      "        [6.7875, 1.3575, 6.7875],\n",
      "        [5.4300, 2.7150, 8.1450],\n",
      "        [6.7875, 4.0725, 9.5025],\n",
      "        [8.1450, 0.0000, 8.1450],\n",
      "        [9.5025, 1.3575, 9.5025],\n",
      "        [8.1450, 2.7150, 5.4300],\n",
      "        [9.5025, 4.0725, 6.7875],\n",
      "        [5.4300, 5.4300, 0.0000],\n",
      "        [6.7875, 6.7875, 1.3575],\n",
      "        [5.4300, 8.1450, 2.7150],\n",
      "        [6.7875, 9.5025, 4.0725],\n",
      "        [8.1450, 5.4300, 2.7150],\n",
      "        [9.5025, 6.7875, 4.0725],\n",
      "        [8.1450, 8.1450, 0.0000],\n",
      "        [9.5025, 9.5025, 1.3575],\n",
      "        [5.4300, 5.4300, 5.4300],\n",
      "        [6.7875, 6.7875, 6.7875],\n",
      "        [5.4300, 8.1450, 8.1450],\n",
      "        [6.7875, 9.5025, 9.5025],\n",
      "        [8.1450, 5.4300, 8.1450],\n",
      "        [9.5025, 6.7875, 9.5025],\n",
      "        [8.1450, 8.1450, 5.4300],\n",
      "        [9.5025, 9.5025, 6.7875]], device='cuda:0'), masses=tensor([28.0850, 28.0850, 28.0850, 28.0850, 28.0850, 28.0850, 28.0850, 28.0850,\n",
      "        28.0850, 28.0850, 28.0850, 28.0850, 28.0850, 28.0850, 28.0850, 28.0850,\n",
      "        28.0850, 28.0850, 28.0850, 28.0850, 28.0850, 28.0850, 28.0850, 28.0850,\n",
      "        28.0850, 28.0850, 28.0850, 28.0850, 28.0850, 28.0850, 28.0850, 28.0850,\n",
      "        28.0850, 28.0850, 28.0850, 28.0850, 28.0850, 28.0850, 28.0850, 28.0850,\n",
      "        28.0850, 28.0850, 28.0850, 28.0850, 28.0850, 28.0850, 28.0850, 28.0850,\n",
      "        28.0850, 28.0850, 28.0850, 28.0850, 28.0850, 28.0850, 28.0850, 28.0850,\n",
      "        28.0850, 28.0850, 28.0850, 28.0850, 28.0850, 28.0850, 28.0850, 28.0850],\n",
      "       device='cuda:0'), cell=tensor([[[10.8600,  0.0000,  0.0000],\n",
      "         [ 0.0000, 10.8600,  0.0000],\n",
      "         [ 0.0000,  0.0000, 10.8600]]], device='cuda:0'), pbc=True, atomic_numbers=tensor([14, 14, 14, 14, 14, 14, 14, 14, 14, 14, 14, 14, 14, 14, 14, 14, 14, 14,\n",
      "        14, 14, 14, 14, 14, 14, 14, 14, 14, 14, 14, 14, 14, 14, 14, 14, 14, 14,\n",
      "        14, 14, 14, 14, 14, 14, 14, 14, 14, 14, 14, 14, 14, 14, 14, 14, 14, 14,\n",
      "        14, 14, 14, 14, 14, 14, 14, 14, 14, 14], device='cuda:0',\n",
      "       dtype=torch.int32), batch=tensor([0, 0, 0, 0, 0, 0, 0, 0, 0, 0, 0, 0, 0, 0, 0, 0, 0, 0, 0, 0, 0, 0, 0, 0,\n",
      "        0, 0, 0, 0, 0, 0, 0, 0, 0, 0, 0, 0, 0, 0, 0, 0, 0, 0, 0, 0, 0, 0, 0, 0,\n",
      "        0, 0, 0, 0, 0, 0, 0, 0, 0, 0, 0, 0, 0, 0, 0, 0], device='cuda:0'))\n"
     ]
    }
   ],
   "source": [
    "import torch\n",
    "\n",
    "from torch_sim.io import atoms_to_state\n",
    "\n",
    "\n",
    "# Set device and data type\n",
    "device = \"cuda\" if torch.cuda.is_available() else \"cpu\"\n",
    "dtype = torch.float32\n",
    "\n",
    "state = atoms_to_state(si_dc, dtype=dtype, device=device)\n",
    "print(state)"
   ]
  },
  {
   "cell_type": "markdown",
   "metadata": {},
   "source": [
    "One can also pass in the attributes directly to the `SimState` object instead of using ASE's build function."
   ]
  },
  {
   "cell_type": "markdown",
   "metadata": {},
   "source": [
    "## Define a `torch-sim` model\n",
    "We will use the `MACE` model trained on the OMAT dataset for this tutorial."
   ]
  },
  {
   "cell_type": "code",
   "execution_count": 8,
   "metadata": {},
   "outputs": [
    {
     "name": "stdout",
     "output_type": "stream",
     "text": [
      "Using medium OMAT-0 model under Academic Software License (ASL) license, see https://github.com/gabor1/ASL \n",
      " To use this model you accept the terms of the license.\n",
      "Using Materials Project MACE for MACECalculator with /home/abhijeet/.cache/mace/maceomat0mediummodel\n"
     ]
    },
    {
     "name": "stderr",
     "output_type": "stream",
     "text": [
      "/home/abhijeet/micromamba/envs/torchsim_mace/lib/python3.12/site-packages/mace/calculators/foundations_models.py:169: FutureWarning: You are using `torch.load` with `weights_only=False` (the current default value), which uses the default pickle module implicitly. It is possible to construct malicious pickle data which will execute arbitrary code during unpickling (See https://github.com/pytorch/pytorch/blob/main/SECURITY.md#untrusted-models for more details). In a future release, the default value for `weights_only` will be flipped to `True`. This limits the functions that could be executed during unpickling. Arbitrary objects will no longer be allowed to be loaded via this mode unless they are explicitly allowlisted by the user via `torch.serialization.add_safe_globals`. We recommend you start setting `weights_only=True` for any use case where you don't have full control of the loaded file. Please open an issue on GitHub for any issues related to this experimental feature.\n",
      "  return torch.load(model_path, map_location=device)\n"
     ]
    }
   ],
   "source": [
    "# Load the raw model from the checkpoint\n",
    "from mace.calculators.foundations_models import mace_mp\n",
    "\n",
    "\n",
    "mace_checkpoint_url = \"https://github.com/ACEsuit/mace-mp/releases/download/mace_omat_0/mace-omat-0-medium.model\"\n",
    "loaded_model = mace_mp(\n",
    "    model=mace_checkpoint_url,\n",
    "    return_raw_model=True,\n",
    "    default_dtype=dtype,\n",
    "    device=device,\n",
    ")"
   ]
  },
  {
   "cell_type": "markdown",
   "metadata": {},
   "source": [
    "We can then initialize the `MaceModel` from `torch-sim.models.mace` module."
   ]
  },
  {
   "cell_type": "code",
   "execution_count": 9,
   "metadata": {},
   "outputs": [
    {
     "name": "stdout",
     "output_type": "stream",
     "text": [
      "Running BatchedMACEForce on device: cuda with dtype: torch.float32\n"
     ]
    },
    {
     "name": "stderr",
     "output_type": "stream",
     "text": [
      "/home/abhijeet/Desktop/Home/Code/torchsim_dev/torch-sim/torch_sim/models/mace.py:87: UserWarning: To copy construct from a tensor, it is recommended to use sourceTensor.clone().detach() or sourceTensor.clone().detach().requires_grad_(True), rather than torch.tensor(sourceTensor).\n",
      "  self.model.atomic_numbers = torch.tensor(\n"
     ]
    }
   ],
   "source": [
    "from torch_sim.models.mace import MaceModel\n",
    "\n",
    "\n",
    "mace_model = MaceModel(\n",
    "    model=loaded_model,\n",
    "    device=device,\n",
    "    compute_force=True,\n",
    "    compute_stress=True,\n",
    "    dtype=dtype,\n",
    "    enable_cueq=False,\n",
    ")"
   ]
  },
  {
   "cell_type": "markdown",
   "metadata": {},
   "source": [
    "## Model call\n",
    "\n",
    "We can then pass the structure defined in the `SimState` to the model and get the properties."
   ]
  },
  {
   "cell_type": "code",
   "execution_count": 10,
   "metadata": {},
   "outputs": [
    {
     "name": "stdout",
     "output_type": "stream",
     "text": [
      "{'energy': tensor([-347.3734], device='cuda:0'), 'forces': tensor([[ 1.0860e-05,  1.8540e-05,  9.8736e-06],\n",
      "        [-1.0921e-05, -8.2361e-06, -9.5972e-06],\n",
      "        [ 2.9740e-06,  8.4398e-07, -1.4720e-07],\n",
      "        [ 9.0303e-07, -1.0987e-05, -1.1049e-05],\n",
      "        [-6.2719e-07,  2.6526e-06, -9.4413e-08],\n",
      "        [-9.3343e-06,  7.5492e-06, -9.8401e-06],\n",
      "        [ 2.3516e-07,  3.6540e-06,  3.3305e-06],\n",
      "        [-1.0521e-05, -9.8684e-06,  3.4072e-07],\n",
      "        [ 2.7923e-06,  1.1069e-05,  6.7602e-06],\n",
      "        [-1.1050e-05, -9.1003e-06, -1.0825e-05],\n",
      "        [ 1.9614e-05, -2.6211e-06, -2.8371e-05],\n",
      "        [ 1.0609e-05, -5.6052e-06,  2.2416e-05],\n",
      "        [-1.6350e-06,  1.9337e-05, -2.4647e-05],\n",
      "        [ 2.1930e-06,  1.8240e-05,  2.7243e-05],\n",
      "        [ 3.8424e-06,  6.9391e-06,  1.0155e-05],\n",
      "        [ 2.6202e-06, -2.7603e-06,  3.5580e-06],\n",
      "        [ 8.0383e-06,  1.1599e-05,  8.8000e-06],\n",
      "        [-6.1961e-06, -9.6887e-06, -6.9254e-06],\n",
      "        [ 1.6080e-05, -2.7732e-05, -1.7172e-06],\n",
      "        [ 7.6592e-06,  1.4917e-05,  4.8783e-06],\n",
      "        [ 1.4417e-06,  1.0959e-05,  3.0351e-06],\n",
      "        [ 5.5449e-07,  4.7155e-06,  7.6941e-07],\n",
      "        [-9.6712e-07, -2.7076e-05,  1.5520e-05],\n",
      "        [ 4.5210e-06,  1.5829e-05,  6.4831e-06],\n",
      "        [ 1.8943e-05,  1.5014e-05,  9.9826e-06],\n",
      "        [ 7.6185e-06, -6.2761e-06, -3.1774e-06],\n",
      "        [ 1.2882e-05, -2.8258e-05, -3.0177e-05],\n",
      "        [-9.1530e-06,  2.3493e-06,  9.9386e-06],\n",
      "        [-5.5438e-06,  5.9861e-06, -3.9235e-05],\n",
      "        [-5.2740e-06, -5.3294e-06,  1.9716e-05],\n",
      "        [-7.3742e-06, -4.2634e-05,  1.2295e-06],\n",
      "        [-9.5746e-06,  1.0197e-05, -1.1495e-05],\n",
      "        [ 9.1236e-06,  1.2834e-05,  2.5449e-06],\n",
      "        [-1.1388e-05, -8.6311e-06, -1.0527e-05],\n",
      "        [ 1.0358e-05,  7.8259e-06,  1.6598e-06],\n",
      "        [ 3.8839e-06, -3.6706e-06,  2.6894e-06],\n",
      "        [-2.4830e-05,  1.7007e-05,  1.2143e-06],\n",
      "        [ 2.5918e-05,  1.8856e-05,  1.9041e-06],\n",
      "        [-2.8480e-05, -4.3237e-07,  1.8479e-05],\n",
      "        [ 2.0733e-05, -6.5450e-06,  1.0534e-05],\n",
      "        [ 1.5553e-05,  2.9165e-05,  1.5612e-05],\n",
      "        [ 8.2830e-07,  1.0106e-05,  1.3101e-06],\n",
      "        [ 3.4988e-06, -6.1096e-06, -4.0124e-05],\n",
      "        [-1.0045e-05, -1.4003e-05,  1.6082e-05],\n",
      "        [-3.1263e-05,  1.2204e-05, -3.0808e-05],\n",
      "        [ 5.4725e-06, -7.7449e-06,  5.4794e-06],\n",
      "        [-3.9602e-05, -7.0012e-06,  4.7518e-06],\n",
      "        [ 1.7198e-05, -1.5398e-05, -9.4363e-06],\n",
      "        [ 1.1778e-05,  1.2934e-05,  1.8099e-05],\n",
      "        [-6.5070e-06, -5.7014e-06,  7.3797e-06],\n",
      "        [ 3.9075e-06, -4.2407e-05, -8.7774e-06],\n",
      "        [-1.0835e-05,  9.0823e-06, -1.0772e-05],\n",
      "        [-4.0738e-05,  5.7415e-06, -5.8178e-06],\n",
      "        [ 2.0280e-05, -5.3608e-06, -6.8706e-06],\n",
      "        [-2.9755e-05, -2.9020e-05,  1.2267e-05],\n",
      "        [ 9.9373e-06,  2.1802e-06, -9.9987e-06],\n",
      "        [ 2.9553e-06,  8.4950e-06,  2.8805e-06],\n",
      "        [-1.3622e-05, -1.4975e-05, -1.3911e-05],\n",
      "        [ 3.0307e-05, -1.1846e-05, -7.6887e-06],\n",
      "        [-8.0261e-06,  1.9096e-05,  2.0659e-05],\n",
      "        [-1.5478e-05,  2.8471e-05, -1.2939e-05],\n",
      "        [ 2.3377e-05, -7.9200e-06,  2.2241e-05],\n",
      "        [-9.2341e-06, -1.2266e-05,  3.3010e-05],\n",
      "        [ 1.8626e-05,  2.0914e-05, -7.8557e-06]], device='cuda:0'), 'stress': tensor([[[1.9060e-03, 8.3009e-08, 1.9634e-07],\n",
      "         [8.3009e-08, 1.9056e-03, 9.1421e-08],\n",
      "         [1.9634e-07, 9.1421e-08, 1.9059e-03]]], device='cuda:0')}\n"
     ]
    }
   ],
   "source": [
    "results = mace_model(state)\n",
    "print(results)"
   ]
  },
  {
   "cell_type": "code",
   "execution_count": null,
   "metadata": {},
   "outputs": [],
   "source": []
  }
 ],
 "metadata": {
  "kernelspec": {
   "display_name": "Python 3",
   "language": "python",
   "name": "python3"
  },
  "language_info": {
   "codemirror_mode": {
    "name": "ipython",
    "version": 3
   },
   "file_extension": ".py",
   "mimetype": "text/x-python",
   "name": "python",
   "nbconvert_exporter": "python",
   "pygments_lexer": "ipython3",
   "version": "3.12.8"
  }
 },
 "nbformat": 4,
 "nbformat_minor": 2
}
